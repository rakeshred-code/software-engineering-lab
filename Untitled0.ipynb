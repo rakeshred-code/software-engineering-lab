{
  "nbformat": 4,
  "nbformat_minor": 0,
  "metadata": {
    "colab": {
      "provenance": [],
      "authorship_tag": "ABX9TyM+yr/zvij/HwabjdyFjCFL",
      "include_colab_link": true
    },
    "kernelspec": {
      "name": "python3",
      "display_name": "Python 3"
    },
    "language_info": {
      "name": "python"
    }
  },
  "cells": [
    {
      "cell_type": "markdown",
      "metadata": {
        "id": "view-in-github",
        "colab_type": "text"
      },
      "source": [
        "<a href=\"https://colab.research.google.com/github/rakeshred-code/software-engineering-lab/blob/main/Untitled0.ipynb\" target=\"_parent\"><img src=\"https://colab.research.google.com/assets/colab-badge.svg\" alt=\"Open In Colab\"/></a>"
      ]
    },
    {
      "cell_type": "code",
      "source": [
        "a=30\n",
        "b=50\n",
        "c=10\n",
        "discriminant = b**2-4*a*c\n",
        "\n",
        "if discriminant > 0:\n",
        "  root1 = (-b + discriminant**0.5)/(2*a)\n",
        "  root2 = (-b - discriminant**0.5)/(2*a)\n",
        "  print(f\"Real and different roots: {root1} and {root2}\")\n",
        "elif discriminant == 0:\n",
        "  root = -b/(2*a)\n",
        "  print(f\"Real and equal roots: {root}\")\n",
        "else :\n",
        "  real_part = -b/(2*a)\n",
        "  imaginary_part = (-discriminant)**0.5/(2*a)\n",
        "  print(f\"Complex roots: {real_part} + {imaginary_part}i and {real_part} - {imaginary_part}i\")"
      ],
      "metadata": {
        "colab": {
          "base_uri": "https://localhost:8080/"
        },
        "id": "sHqZltIs6e6b",
        "outputId": "16536ee5-36a3-4672-fb98-3edefe8e0811"
      },
      "execution_count": 2,
      "outputs": [
        {
          "output_type": "stream",
          "name": "stdout",
          "text": [
            "Real and different roots: -0.23240812075600178 and -1.434258545910665\n"
          ]
        }
      ]
    },
    {
      "cell_type": "code",
      "source": [
        "a=float(input(\"Enter coefficient a: \"))\n",
        "b=float(input(\"Enter coefficient b: \"))\n",
        "c=float(input(\"Enter coefficient c: \"))\n",
        "discriminant = b**2-4*a*c\n",
        "\n",
        "if discriminant > 0:\n",
        "  root1 = (-b + discriminant**0.5)/(2*a)\n",
        "  root2 = (-b - discriminant**0.5)/(2*a)\n",
        "  print(f\"Real and different roots: {root1},{root2}\")\n",
        "elif discriminant == 0:\n",
        "  root = -b/(2*a)\n",
        "  print(f\"Real and equal roots: {root}\")\n",
        "else:\n",
        "  real_part = -b/(2*a)\n",
        "  imaginary_part = (-discriminant)**0.5/(2*a)\n",
        "  print(f\"Complex roots:{real_part}+-{imaginary_part}i\")"
      ],
      "metadata": {
        "colab": {
          "base_uri": "https://localhost:8080/"
        },
        "id": "Yd4t5fWD8PJ6",
        "outputId": "032a45e2-d5da-4ee7-d4ff-37721b6d8dbf"
      },
      "execution_count": 3,
      "outputs": [
        {
          "output_type": "stream",
          "name": "stdout",
          "text": [
            "Enter coefficient a: 30\n",
            "Enter coefficient b: 50\n",
            "Enter coefficient c: 10\n",
            "Real and different roots: -0.23240812075600178,-1.434258545910665\n"
          ]
        }
      ]
    },
    {
      "cell_type": "code",
      "source": [
        "def calculate_weather(t, H, W):\n",
        "    w = 0.5 * t**2 - 0.2 * H + 0.1 * W - 15\n",
        "    return w\n",
        "\n",
        "# Hardcoded values\n",
        "t = 25  # Temperature (in °C)\n",
        "H = 70  # Humidity (in %)\n",
        "W = 10  # Wind speed (in km/h)\n",
        "\n",
        "w = calculate_weather(t, H, W)\n",
        "print(f\"Calculated weather value w: {w}\")"
      ],
      "metadata": {
        "colab": {
          "base_uri": "https://localhost:8080/"
        },
        "id": "v8JZfWE2Azuw",
        "outputId": "792fe176-08f7-45ae-eef6-329960e910bd"
      },
      "execution_count": 4,
      "outputs": [
        {
          "output_type": "stream",
          "name": "stdout",
          "text": [
            "Calculated weather value w: 284.5\n"
          ]
        }
      ]
    },
    {
      "cell_type": "code",
      "source": [
        "def calculate_weather(t, H, W):\n",
        "    w = 0.5 * t**2 - 0.2 * H + 0.1 * W - 15\n",
        "    return w\n",
        "\n",
        "# Accepting input via keyboard\n",
        "t = float(input(\"Enter temperature (t in °C): \"))\n",
        "H = float(input(\"Enter humidity (H in %): \"))\n",
        "W = float(input(\"Enter wind speed (W in km/h): \"))\n",
        "\n",
        "w = calculate_weather(t, H, W)\n",
        "print(f\"Calculated weather value w: {w}\")"
      ],
      "metadata": {
        "colab": {
          "base_uri": "https://localhost:8080/"
        },
        "id": "NnjApaC4Azxo",
        "outputId": "1e2acb5e-217d-49ee-cc08-383754768fb5"
      },
      "execution_count": 5,
      "outputs": [
        {
          "output_type": "stream",
          "name": "stdout",
          "text": [
            "Enter temperature (t in °C): 30\n",
            "Enter humidity (H in %): 50\n",
            "Enter wind speed (W in km/h): 10\n",
            "Calculated weather value w: 426.0\n"
          ]
        }
      ]
    },
    {
      "cell_type": "code",
      "source": [
        "def calculate_weather(t, H, W):\n",
        "    w = 0.5 * t**2 - 0.2 * H + 0.1 * W - 15\n",
        "    return w\n",
        "\n",
        "try:\n",
        "    with open('inputs.txt', 'r') as file:\n",
        "        for line in file:\n",
        "            t, H, W = map(float, line.split())\n",
        "            w = calculate_weather(t, H, W)\n",
        "            print(f\"Calculated weather value w for t={t}, H={H}, W={W}: {w}\")\n",
        "except FileNotFoundError:\n",
        "    print(\"The file 'inputs.txt' was not found.\")"
      ],
      "metadata": {
        "colab": {
          "base_uri": "https://localhost:8080/"
        },
        "id": "AWrDjBK6BF9y",
        "outputId": "51604234-f49f-4d9a-f82f-e43467fa18a0"
      },
      "execution_count": 6,
      "outputs": [
        {
          "output_type": "stream",
          "name": "stdout",
          "text": [
            "The file 'inputs.txt' was not found.\n"
          ]
        }
      ]
    },
    {
      "cell_type": "code",
      "source": [
        "def calculate_weather(t, H, W):\n",
        "    w = 0.5 * t**2 - 0.2 * H + 0.1 * W - 15\n",
        "    return w\n",
        "\n",
        "# Single set of inputs\n",
        "t = 25  # Temperature (in °C)\n",
        "H = 70  # Humidity (in %)\n",
        "W = 10  # Wind speed (in km/h)\n",
        "\n",
        "w = calculate_weather(t, H, W)\n",
        "print(f\"Calculated weather value w for t={t}, H={H}, W={W}: {w}\")\n"
      ],
      "metadata": {
        "colab": {
          "base_uri": "https://localhost:8080/"
        },
        "id": "nu8psdcMBMg7",
        "outputId": "d56bd0de-f75d-45bb-a7be-c929f0967531"
      },
      "execution_count": 7,
      "outputs": [
        {
          "output_type": "stream",
          "name": "stdout",
          "text": [
            "Calculated weather value w for t=25, H=70, W=10: 284.5\n"
          ]
        }
      ]
    },
    {
      "cell_type": "code",
      "source": [
        "def calculate_weather(t, H, W):\n",
        "    w = 0.5 * t**2 - 0.2 * H + 0.1 * W - 15\n",
        "    return w\n",
        "\n",
        "# Processing multiple sets of inputs interactively\n",
        "while True:\n",
        "    user_input = input(\"Do you want to input another set of values (y/n)? \").strip().lower()\n",
        "    if user_input == 'n':\n",
        "        break\n",
        "    elif user_input == 'y':\n",
        "        t = float(input(\"Enter temperature (t in °C): \"))\n",
        "        H = float(input(\"Enter humidity (H in %): \"))\n",
        "        W = float(input(\"Enter wind speed (W in km/h): \"))\n",
        "        w = calculate_weather(t, H, W)\n",
        "        print(f\"Calculated weather value w for t={t}, H={H}, W={W}: {w}\")\n",
        "    else:\n",
        "        print(\"Invalid input. Please enter 'y' or 'n'.\")\n",
        ""
      ],
      "metadata": {
        "colab": {
          "base_uri": "https://localhost:8080/"
        },
        "id": "yxJb92jBBzNT",
        "outputId": "77ebf6f9-211d-4c80-cac4-5f0eae916210"
      },
      "execution_count": 9,
      "outputs": [
        {
          "name": "stdout",
          "output_type": "stream",
          "text": [
            "Do you want to input another set of values (y/n)? y\n",
            "Enter temperature (t in °C): 30\n",
            "Enter humidity (H in %): 50\n",
            "Enter wind speed (W in km/h): 10\n",
            "Calculated weather value w for t=30.0, H=50.0, W=10.0: 426.0\n",
            "Do you want to input another set of values (y/n)? n\n"
          ]
        }
      ]
    },
    {
      "cell_type": "code",
      "source": [
        "def calculate_weather(t, H, W):\n",
        "    # Calculate weather value using the given quadratic equation\n",
        "    w = 0.5 * t**2 - 0.2 * H + 0.1 * W - 15\n",
        "    return w\n",
        "\n",
        "def classify_weather(w):\n",
        "    # Classify the weather based on the value of 'w'\n",
        "    if w >= 200 and w <= 400:\n",
        "        return \"Sunny\"\n",
        "    elif w >= 100 and w < 200:\n",
        "        return \"Cloudy\"\n",
        "    elif w >= 0 and w < 100:\n",
        "        return \"Rainy\"\n",
        "    elif w < 0:\n",
        "        return \"Stormy\"\n",
        "    else:\n",
        "        return \"Unknown\"\n",
        "\n",
        "# Test scenarios for prediction\n",
        "scenarios = [\n",
        "    {\"t\": 25, \"H\": 70, \"W\": 10},  # Scenario 1\n",
        "    {\"t\": 35, \"H\": 90, \"W\": 15},  # Scenario 2\n",
        "    {\"t\": 15, \"H\": 80, \"W\": 5},   # Scenario 3\n",
        "    {\"t\": 40, \"H\": 50, \"W\": 20},  # Scenario 4\n",
        "    {\"t\": 5, \"H\": 95, \"W\": 0}     # Scenario 5\n",
        "]\n",
        "\n",
        "# Process each scenario and predict the weather\n",
        "for scenario in scenarios:\n",
        "    t = scenario[\"t\"]\n",
        "    H = scenario[\"H\"]\n",
        "    W = scenario[\"W\"]\n",
        "\n",
        "    w = calculate_weather(t, H, W)\n",
        "    weather_condition = classify_weather(w)\n",
        "\n",
        "    print(f\"Prediction for t={t}°C, H={H}%, W={W} km/h: w = {w}, Weather: {weather_condition}\")"
      ],
      "metadata": {
        "colab": {
          "base_uri": "https://localhost:8080/"
        },
        "id": "OzH-7-bdB7FU",
        "outputId": "a8007a4f-e2d7-4c6a-b37a-45bedf18d667"
      },
      "execution_count": 10,
      "outputs": [
        {
          "output_type": "stream",
          "name": "stdout",
          "text": [
            "Prediction for t=25°C, H=70%, W=10 km/h: w = 284.5, Weather: Sunny\n",
            "Prediction for t=35°C, H=90%, W=15 km/h: w = 581.0, Weather: Unknown\n",
            "Prediction for t=15°C, H=80%, W=5 km/h: w = 82.0, Weather: Rainy\n",
            "Prediction for t=40°C, H=50%, W=20 km/h: w = 777.0, Weather: Unknown\n",
            "Prediction for t=5°C, H=95%, W=0 km/h: w = -21.5, Weather: Stormy\n"
          ]
        }
      ]
    },
    {
      "cell_type": "code",
      "source": [],
      "metadata": {
        "id": "kAkP98OvB7HQ"
      },
      "execution_count": null,
      "outputs": []
    }
  ]
}